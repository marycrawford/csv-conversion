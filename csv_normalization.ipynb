{
  "cells": [
    {
      "cell_type": "code",
      "execution_count": null,
      "metadata": {
        "id": "9--OA-syQ9d4"
      },
      "outputs": [],
      "source": [
        "import pandas as pd\n",
        "import numpy as np\n",
        "import ast\n",
        "import sys\n",
        "import datetime as dt\n",
        "from datetime import timedelta"
      ]
    },
    {
      "cell_type": "code",
      "execution_count": null,
      "metadata": {
        "id": "J7v4b7RaRGwK"
      },
      "outputs": [],
      "source": [
        "# See https://stackoverflow.com/questions/18495846/pandas-data-from-stdin.\n",
        "# Note: You can import the csv file and change the dataframe (df) path to \n",
        "# df = pd.read_csv('sample-with-broken-utf8.csv', encoding='iso-8859-1'), if necessary.\n",
        "df = pd.read_csv(sys.stdin)"
      ]
    },
    {
      "cell_type": "code",
      "execution_count": null,
      "metadata": {
        "id": "LedhN22tRff3"
      },
      "outputs": [],
      "source": [
        "# Convert the Timestamp column object to datetime.  \n",
        "# The to-date() function makes the datetime object timezone aware to DST.\n",
        "# See https://www.marsja.se/pandas-convert-column-to-datetime/.\n",
        "df['Timestamp'] = pd.to_datetime(df['Timestamp'])"
      ]
    },
    {
      "cell_type": "code",
      "execution_count": null,
      "metadata": {
        "id": "XIhww9a1Ricr"
      },
      "outputs": [],
      "source": [
        "# Set the current timedate as US/Pacific Standard Time.\n",
        "# The tz_localize method makes the datetime object aware of DayLight Savings Time.\n",
        "# See https://pandas.pydata.org/pandas-docs/stable/reference/api/pandas.DatetimeIndex.tz_localize.html.\n",
        "# If we want to check more timezones, you can pip install pytz, import pytz and do pytz.common_timezones.\n",
        "df['Timestamp'] = df['Timestamp'].dt.tz_localize('US/Pacific')"
      ]
    },
    {
      "cell_type": "code",
      "execution_count": null,
      "metadata": {
        "id": "OOno02pFRz5M"
      },
      "outputs": [],
      "source": [
        "# Convert datetime object to US/Eastern Standard Time\n",
        "df['Timestamp'] = df['Timestamp'].dt.tz_convert('US/Eastern')"
      ]
    },
    {
      "cell_type": "markdown",
      "metadata": {
        "id": "mSKKKydoR4PQ"
      },
      "source": [
        "If the DST transition causes nonexistent times, you can shift these dates forward or backward with a timedelta object or ‘shift_forward’ or ‘shift_backward’ (see https://pandas.pydata.org/docs/reference/api/pandas.DataFrame.tz_localize.html).\n",
        "\n"
      ]
    },
    {
      "cell_type": "code",
      "execution_count": null,
      "metadata": {
        "id": "UvYjgv5XR_u2"
      },
      "outputs": [],
      "source": [
        "# Sometimes objects are saved as different object types.  You can set the Address to unicode.\n",
        "# See https://www.programcreek.com/python/example/102072/numpy.unicode\n",
        "df['Address'].astype(np.unicode)"
      ]
    },
    {
      "cell_type": "code",
      "execution_count": null,
      "metadata": {
        "id": "pNSq1QOmSZWO"
      },
      "outputs": [],
      "source": [
        "# Create an AddressValidator column\n",
        "# Test to see if Address is unicode\n",
        "df['AddressValidator'] = np.where(df['Address'].astype(\"unicode\"), True, False)"
      ]
    },
    {
      "cell_type": "code",
      "execution_count": null,
      "metadata": {
        "id": "knA2GS7JSdlI"
      },
      "outputs": [],
      "source": [
        "# Set AddressValidator column to string object data type.\n",
        "df['AddressValidator'] = df['AddressValidator'].astype(str)"
      ]
    },
    {
      "cell_type": "code",
      "execution_count": null,
      "metadata": {
        "id": "quugLv40Simf"
      },
      "outputs": [],
      "source": [
        "# validate if AddressValidator is 'True then Address will have the address passed\n",
        "df['Address'][df.AddressValidator.str.contains('True')] = df['Address']"
      ]
    },
    {
      "cell_type": "code",
      "execution_count": null,
      "metadata": {
        "id": "cxvgRE8zSoIj"
      },
      "outputs": [],
      "source": [
        "# ZIP is normally an int64 data type; however, this will not resolve how to look at the length.\n",
        "# A better option would be to convert the zip column into a string to get the length.\n",
        "# A string is an object data type.\n",
        "# NOTE: int64 objects used with comparators can lead to a false positive or false negative.\n",
        "# TODO: Investigate how to refactor code further.\n",
        "df['ZIP'] = df.ZIP.astype(str)"
      ]
    },
    {
      "cell_type": "code",
      "execution_count": null,
      "metadata": {
        "id": "naIR0WW2TFOp"
      },
      "outputs": [],
      "source": [
        "# Create a ZipLength column to check the length of the ZIP column values.\n",
        "df[\"ZipLength\"]= df['ZIP'].str.len()"
      ]
    },
    {
      "cell_type": "code",
      "execution_count": null,
      "metadata": {
        "id": "Siq3X9ozTIIZ"
      },
      "outputs": [],
      "source": [
        "# Set the ZipLength column to an object data type.\n",
        "# Note: int64 objects during comparisions may return a false positive or false negative.\n",
        "df[\"ZipLength\"]= df[\"ZipLength\"].astype(object)"
      ]
    },
    {
      "cell_type": "code",
      "execution_count": null,
      "metadata": {
        "id": "T0QU5uNxTMN2"
      },
      "outputs": [],
      "source": [
        "# Create an array the length of the ZIP rows with the value 5.\n",
        "# Check the ZipLength column values with the valid_len_arr values.\n",
        "# Note: Comparators may provide a false negative or false positive\n",
        "# this code may be refactored using a.bool() or a.all() to avoid creating an array.\n",
        "valid_len_arr[len(df['ZIP'])-1] = 5\n",
        "df['ZipLength'] = np.where((df['ZipLength'].isin(valid_len_arr)), True, False)"
      ]
    },
    {
      "cell_type": "code",
      "execution_count": null,
      "metadata": {
        "id": "CyVTZ9hwTTot"
      },
      "outputs": [],
      "source": [
        "# Set ZipLength data type to a string.\n",
        "df['ZipLength'] = df['ZipLength'].astype(str)"
      ]
    },
    {
      "cell_type": "code",
      "execution_count": null,
      "metadata": {
        "id": "b0tgEjrqTUhM"
      },
      "outputs": [],
      "source": [
        "# Validate if column has the word \"False\"; if yes, set the ZIP column's value to 0.\n",
        "# see https://stackoverflow.com/questions/23400743/pandas-modify-column-values-in-place-based-on-boolean-array\n",
        "df['ZIP'][df.ZipLength.str.contains('False')] = '0'"
      ]
    },
    {
      "cell_type": "code",
      "execution_count": null,
      "metadata": {
        "id": "svxrJuiSTayJ"
      },
      "outputs": [],
      "source": [
        "# Begin converting the FullName column.\n",
        "# Change the FullName column to Unicode.\n",
        "# Note: This may need to be revised.  Attempts to decode and encode into unicode and/or utf-8 failed.\n",
        "# Received \"AttributeError: 'Series' object has no attribute 'decode'\" with the following command:\n",
        "# df['FullName'] = df['FullName'].str.upper().decode('iso-8859-1').encode('utf8')\n",
        "# TODO: investigate why unicode data type was not successfully updated for Address & FullName column.\n",
        "\n",
        "df['FullName'] = df['FullName'].astype(np.unicode)"
      ]
    },
    {
      "cell_type": "code",
      "execution_count": null,
      "metadata": {
        "id": "BhNwMbffTda8"
      },
      "outputs": [],
      "source": [
        "df['FullName'] = df['FullName'].str.upper()"
      ]
    },
    {
      "cell_type": "code",
      "execution_count": null,
      "metadata": {
        "id": "wkTcHKdjTf9-"
      },
      "outputs": [],
      "source": [
        "# Test behavior of special characters such as Chinese.\n",
        "# Below is the Chinese equivalant to Mary.\n",
        "df[\"NameTest\"]= '瑪麗'"
      ]
    },
    {
      "cell_type": "code",
      "execution_count": null,
      "metadata": {
        "id": "kgQ8UxPHTuV9"
      },
      "outputs": [],
      "source": [
        "# Testing if Asian characters would be affected by the str.upper() function.\n",
        "df['NameTest'] = df['NameTest'].str.upper()"
      ]
    },
    {
      "cell_type": "code",
      "execution_count": null,
      "metadata": {
        "id": "VnZagalUT-sc"
      },
      "outputs": [],
      "source": [
        "# Start conversion for FooDuration\n",
        "# FooDuration column will be converted from an object to a float64 data type.\n",
        "# See https://stackoverflow.com/questions/40485246/pandas-convert-hhmmss-f-string-to-seconds-caveat-hh-sometimes-goes-over\n",
        "df['FooDuration'] = pd.to_timedelta(df['FooDuration']).apply(lambda td: td.total_seconds())"
      ]
    },
    {
      "cell_type": "code",
      "execution_count": null,
      "metadata": {
        "id": "LLnINUX9UAky"
      },
      "outputs": [],
      "source": [
        "# Start conversion for BarDuration.\n",
        "# BarDuration column will be converted from an object to a float64 data type.\n",
        "df['BarDuration'] = pd.to_timedelta(df['BarDuration']).apply(lambda td: td.total_seconds())"
      ]
    },
    {
      "cell_type": "code",
      "execution_count": null,
      "metadata": {
        "id": "9jDGswv2UCkq"
      },
      "outputs": [],
      "source": [
        "# Calculate the sum for TotalDuration.\n",
        "df['TotalDuration'] = df['FooDuration'] + df['BarDuration']"
      ]
    },
    {
      "cell_type": "code",
      "execution_count": null,
      "metadata": {
        "id": "x-hZ8N5wUEcZ"
      },
      "outputs": [],
      "source": [
        "df[['FooDuration', 'BarDuration', 'TotalDuration']]"
      ]
    },
    {
      "cell_type": "code",
      "execution_count": null,
      "metadata": {
        "id": "DlaLUqeOUJLu"
      },
      "outputs": [],
      "source": [
        "# Set Notes column to a bytes string.\n",
        "df[\"Notes\"] = df[\"Notes\"].str.encode('utf-8')"
      ]
    },
    {
      "cell_type": "code",
      "execution_count": null,
      "metadata": {
        "id": "CMah2_WoULUu"
      },
      "outputs": [],
      "source": [
        "# Replace invalid unicode characters with unicode replacement character  \n",
        "df[\"Notes\"] = df.Notes.replace('U+FFFD', 'replace')"
      ]
    },
    {
      "cell_type": "code",
      "execution_count": null,
      "metadata": {
        "id": "y3ULogKrUSqw"
      },
      "outputs": [],
      "source": [
        "# Remove the NameTest and ZipLength columns from the dataframe.\n",
        "# https://pandas.pydata.org/docs/reference/api/pandas.DataFrame.drop.html\n",
        "df.drop(columns=['NameTest', 'ZipLength'])"
      ]
    },
    {
      "cell_type": "code",
      "execution_count": null,
      "metadata": {
        "id": "zCHrG5iSUUdj"
      },
      "outputs": [],
      "source": [
        "# Export the dataframe to a new csv named \"output.csv\".\n",
        "# See https://towardsdatascience.com/how-to-export-pandas-dataframe-to-csv-2038e43d9c03.\n",
        "df.to_csv('output.csv')"
      ]
    }
  ],
  "metadata": {
    "colab": {
      "name": "csv-conversion.ipynb",
      "provenance": []
    },
    "kernelspec": {
      "display_name": "Python 3",
      "name": "python3"
    },
    "language_info": {
      "name": "python"
    }
  },
  "nbformat": 4,
  "nbformat_minor": 0
}
